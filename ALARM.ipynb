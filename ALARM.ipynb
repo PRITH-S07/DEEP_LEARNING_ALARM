{
  "nbformat": 4,
  "nbformat_minor": 0,
  "metadata": {
    "colab": {
      "name": "ALARM.ipynb",
      "provenance": []
    },
    "kernelspec": {
      "name": "python3",
      "display_name": "Python 3"
    },
    "language_info": {
      "name": "python"
    }
  },
  "cells": [
    {
      "cell_type": "code",
      "metadata": {
        "colab": {
          "base_uri": "https://localhost:8080/"
        },
        "id": "m5YNAPj1pXkP",
        "outputId": "91115972-ef37-40ed-a00e-1dcfe4fb261d"
      },
      "source": [
        "!pip install tinytag"
      ],
      "execution_count": 4,
      "outputs": [
        {
          "output_type": "stream",
          "text": [
            "Collecting tinytag\n",
            "  Downloading https://files.pythonhosted.org/packages/4f/8b/c076a533ed8d0aef15ef3b35ce62721500769bc4e2cdbd204d08bd5cce06/tinytag-1.5.0.tar.gz\n",
            "Building wheels for collected packages: tinytag\n",
            "  Building wheel for tinytag (setup.py) ... \u001b[?25l\u001b[?25hdone\n",
            "  Created wheel for tinytag: filename=tinytag-1.5.0-cp37-none-any.whl size=27127 sha256=9b7c4318856632c87e2ad8729069d5a41e6577abddd8dd1f1d0b9261f2358ddf\n",
            "  Stored in directory: /root/.cache/pip/wheels/b5/c9/36/3085d3f7601d67e7594ff86275b5b6ed66133481e46f86759b\n",
            "Successfully built tinytag\n",
            "Installing collected packages: tinytag\n",
            "Successfully installed tinytag-1.5.0\n"
          ],
          "name": "stdout"
        }
      ]
    },
    {
      "cell_type": "code",
      "metadata": {
        "colab": {
          "base_uri": "https://localhost:8080/",
          "height": 191
        },
        "id": "PjjP4FjSo57L",
        "outputId": "40426111-dbdd-4f0c-89ed-d7b6305a53dd"
      },
      "source": [
        "# ALARM LOOP\n",
        "import time\n",
        "from tinytag import TinyTag\n",
        "tag = TinyTag.get('/content/Back_In_Black_sample.ogg.mp3')\n",
        "'''print('This track is by %s.' % tag.artist)\n",
        "print('It is %f seconds long.' % tag.duration)'''\n",
        "for i in range(0,10):\n",
        "  from google.colab import output\n",
        "  output.eval_js('new Audio(\"https://upload.wikimedia.org/wikipedia/en/1/19/Back_In_Black_sample.ogg\").play()')\n",
        "  start_time = time.time()\n",
        "  seconds = tag.duration\n",
        "  while True:\n",
        "    current_time = time.time()\n",
        "    elapsed_time = current_time - start_time\n",
        "    if elapsed_time > seconds:\n",
        "        print(\"Finished iterating in: \" + str(int(elapsed_time))  + \" seconds\")\n",
        "        break"
      ],
      "execution_count": 5,
      "outputs": [
        {
          "output_type": "stream",
          "text": [
            "Finished iterating in: 24 seconds\n",
            "Finished iterating in: 24 seconds\n",
            "Finished iterating in: 24 seconds\n",
            "Finished iterating in: 24 seconds\n",
            "Finished iterating in: 24 seconds\n",
            "Finished iterating in: 24 seconds\n",
            "Finished iterating in: 24 seconds\n",
            "Finished iterating in: 24 seconds\n",
            "Finished iterating in: 24 seconds\n",
            "Finished iterating in: 24 seconds\n"
          ],
          "name": "stdout"
        }
      ]
    },
    {
      "cell_type": "code",
      "metadata": {
        "id": "_niq4R6MpEh5"
      },
      "source": [
        ""
      ],
      "execution_count": null,
      "outputs": []
    }
  ]
}